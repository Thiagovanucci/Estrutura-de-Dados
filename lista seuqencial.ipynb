{
 "cells": [
  {
   "cell_type": "code",
   "execution_count": 1,
   "id": "40d517c9",
   "metadata": {},
   "outputs": [],
   "source": [
    "# Thiago Vanucci Corrêa de Araújo\n",
    "\n",
    "class Lista:\n",
    "    def __init__(self):\n",
    "        self.tamMax = 10\n",
    "        self.dados= []\n",
    "        self.tamAtual = 0\n",
    "    def listaVazia(self):\n",
    "        if (self.tamAtual==0):\n",
    "            print(\"está vazia\") \n",
    "        else: \n",
    "            return False\n",
    "    \n",
    "    def listaCheia(self):\n",
    "        if (self.tamAtual== self.tamMax):\n",
    "            print(\"está cheia\") \n",
    "        else:\n",
    "            return False\n",
    "    def tamanhoLista(self):\n",
    "        return self.tamAtual\n",
    "    \n",
    "    def obterElemento(self,posicao):\n",
    "        if posicao> self.tamAtual or posicao <= 0:\n",
    "            print(\"posição fora da lista\")\n",
    "        else:\n",
    "            return self.dados[posicao-1]\n",
    "    def modoficarElemento(self,posicao,dado): \n",
    "        if posicao> self.tamAtual or posicao <= 0:\n",
    "            print(\"posição fora da lista\")\n",
    "        else:\n",
    "            self.dados[posicao-1]= dado\n",
    "            \n",
    "    \n",
    "    def insere(self,posicao,dado):\n",
    "        if self.tamAtual== self.tamMax or  posicao> self.tamAtual+1 or posicao<=0:\n",
    "                return print(\"erro ao adicionar na posição\")\n",
    "            \n",
    "        i = self.tamAtual\n",
    "        \n",
    "        while i >= posicao:\n",
    "            self.dados[i]= self.dados[i-1]\n",
    "            i-=1\n",
    "            \n",
    "        self.dados.append(None)\n",
    "        self.dados[posicao-1]= dado\n",
    "        \n",
    "        self.tamAtual+=1\n",
    "        return True\n",
    "    def remove(self,posicao):\n",
    "        if posicao> self.tamAtual or posicao<1:\n",
    "            return -1\n",
    "        else:\n",
    "            dado = self.dados[posicao-1]\n",
    "            i = posicao-1\n",
    "            while i <self.tamAtual -1:\n",
    "                self.dados[i] = self.dados[i+1]\n",
    "                i+=1\n",
    "            self.tamAtual-=1\n",
    "            return dado\n",
    "        \n",
    "\n",
    "\n",
    "\n",
    "\n",
    "\n"
   ]
  },
  {
   "cell_type": "code",
   "execution_count": 2,
   "id": "92488501",
   "metadata": {},
   "outputs": [
    {
     "name": "stdout",
     "output_type": "stream",
     "text": [
      "está vazia\n"
     ]
    }
   ],
   "source": [
    "lista1 = Lista()\n",
    "lista1.listaVazia()"
   ]
  },
  {
   "cell_type": "code",
   "execution_count": 3,
   "id": "62a6cfcf",
   "metadata": {},
   "outputs": [
    {
     "data": {
      "text/plain": [
       "False"
      ]
     },
     "execution_count": 3,
     "metadata": {},
     "output_type": "execute_result"
    }
   ],
   "source": [
    "lista1.listaCheia()"
   ]
  },
  {
   "cell_type": "code",
   "execution_count": 4,
   "id": "02049b3b",
   "metadata": {},
   "outputs": [
    {
     "data": {
      "text/plain": [
       "0"
      ]
     },
     "execution_count": 4,
     "metadata": {},
     "output_type": "execute_result"
    }
   ],
   "source": [
    "\n",
    "lista1.tamanhoLista()"
   ]
  },
  {
   "cell_type": "code",
   "execution_count": 5,
   "id": "5d7d8a3c",
   "metadata": {},
   "outputs": [
    {
     "data": {
      "text/plain": [
       "3"
      ]
     },
     "execution_count": 5,
     "metadata": {},
     "output_type": "execute_result"
    }
   ],
   "source": [
    "lista1.insere(1,3)\n",
    "lista1.obterElemento(1)"
   ]
  },
  {
   "cell_type": "code",
   "execution_count": 6,
   "id": "0bdff284",
   "metadata": {},
   "outputs": [
    {
     "data": {
      "text/plain": [
       "4"
      ]
     },
     "execution_count": 6,
     "metadata": {},
     "output_type": "execute_result"
    }
   ],
   "source": [
    "lista1.insere(2,4)\n",
    "lista1.insere(3,17)\n",
    "lista1.insere(4,22)\n",
    "\n",
    "\n",
    "lista1.tamanhoLista()"
   ]
  },
  {
   "cell_type": "code",
   "execution_count": 7,
   "id": "2795ade6",
   "metadata": {},
   "outputs": [
    {
     "data": {
      "text/plain": [
       "3"
      ]
     },
     "execution_count": 7,
     "metadata": {},
     "output_type": "execute_result"
    }
   ],
   "source": [
    "lista1.remove(1)"
   ]
  },
  {
   "cell_type": "code",
   "execution_count": 9,
   "id": "1a34a063",
   "metadata": {},
   "outputs": [
    {
     "data": {
      "text/plain": [
       "4"
      ]
     },
     "execution_count": 9,
     "metadata": {},
     "output_type": "execute_result"
    }
   ],
   "source": [
    "lista1.obterElemento(1)"
   ]
  },
  {
   "cell_type": "code",
   "execution_count": 10,
   "id": "4af2e676",
   "metadata": {},
   "outputs": [
    {
     "data": {
      "text/plain": [
       "17"
      ]
     },
     "execution_count": 10,
     "metadata": {},
     "output_type": "execute_result"
    }
   ],
   "source": [
    "lista1.obterElemento(2)"
   ]
  },
  {
   "cell_type": "code",
   "execution_count": 11,
   "id": "8bec2916",
   "metadata": {},
   "outputs": [],
   "source": [
    "lista1.modoficarElemento(2,100)"
   ]
  },
  {
   "cell_type": "code",
   "execution_count": 12,
   "id": "03fee9ac",
   "metadata": {},
   "outputs": [
    {
     "data": {
      "text/plain": [
       "100"
      ]
     },
     "execution_count": 12,
     "metadata": {},
     "output_type": "execute_result"
    }
   ],
   "source": [
    "lista1.obterElemento(2)"
   ]
  },
  {
   "cell_type": "code",
   "execution_count": null,
   "id": "916746ff",
   "metadata": {},
   "outputs": [],
   "source": []
  }
 ],
 "metadata": {
  "kernelspec": {
   "display_name": "Python 3",
   "language": "python",
   "name": "python3"
  },
  "language_info": {
   "codemirror_mode": {
    "name": "ipython",
    "version": 3
   },
   "file_extension": ".py",
   "mimetype": "text/x-python",
   "name": "python",
   "nbconvert_exporter": "python",
   "pygments_lexer": "ipython3",
   "version": "3.8.8"
  }
 },
 "nbformat": 4,
 "nbformat_minor": 5
}
